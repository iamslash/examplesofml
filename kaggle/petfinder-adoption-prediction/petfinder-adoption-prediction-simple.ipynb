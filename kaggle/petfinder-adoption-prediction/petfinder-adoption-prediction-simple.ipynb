{
  "cells": [
    {
      "metadata": {
        "_uuid": "8f2839f25d086af736a60e9eeb907d3b93b6e0e5",
        "_cell_guid": "b1076dfc-b9ad-4769-8c92-a6c4dae69d19",
        "trusted": true,
        "scrolled": false,
        "_kg_hide-output": false,
        "_kg_hide-input": false
      },
      "cell_type": "code",
      "source": "import numpy as np # linear algebra\nimport pandas as pd # data processing, CSV file I/O (e.g. pd.read_csv)\n\nfrom keras.models import Sequential\nfrom keras.layers import Dense\nfrom keras.layers import Dropout\n\nimport os\n\nprint(os.listdir(\"../input\"))\n\n\ndef add_missing_cols(df, l_cols ):\n    st_missing_cols = set(l_cols) - set(df.columns)\n    for c in st_missing_cols:\n        df[c] = 0\n\ncfg_epoch            = 250\ncfg_batch            = 50\ncfg_validation_split = 0.05\ncfg_path_tr = \"../input/train/train.csv\"\ncfg_path_te  = \"../input/test/test.csv\"\n\nl_cols = ['Type', 'Age', 'Breed1', 'Breed2', 'Gender', \n                         'Color1', 'Color2', 'Color3', 'MaturitySize', 'FurLength',\n                         'Vaccinated', 'Dewormed', 'Sterilized', 'Health', 'Quantity', \n                         'Fee', 'VideoAmt', 'PhotoAmt', 'State']\nl_cols_dum = [\"Type\", \"Breed1\", \"Breed2\", \"Color1\", \"Color2\", \n                               \"Color3\", \"Gender\", \"MaturitySize\", \"FurLength\", \"State\", \n                               'Health', 'Sterilized', 'Dewormed', 'Vaccinated']\n\ndf_X_te = pd.read_csv(cfg_path_te, header=0, usecols=l_cols)\ndf_X_te = pd.get_dummies(df_X_te, columns=l_cols_dum)\n\n# refine dummy columns with df_X_tr, df_X_te\ndf_X_tr = pd.read_csv(cfg_path_tr, header=0, usecols=l_cols)\ndf_X_tr = pd.get_dummies(df_X_tr, columns=l_cols_dum)\nadd_missing_cols(df_X_tr, df_X_te.columns)\nadd_missing_cols(df_X_te, df_X_tr.columns)\n# normalize AdoptionSpeed in range of [0..1]\ndf_Y_tr = pd.read_csv(cfg_path_tr, header=0, usecols=['AdoptionSpeed'])\ndf_Y_tr = pd.get_dummies(df_Y_tr, columns=['AdoptionSpeed'])\n#df_Y_tr = df_Y_tr['AdoptionSpeed'].apply(lambda v: v/4)\n\n# build model\nn_X   = df_X_tr.shape[1]\nn_Y   = df_Y_tr.shape[1]\nmodel = Sequential()\nmodel.add(Dense(n_X, input_dim=n_X, activation='relu'))\nmodel.add(Dropout(0.2))\nmodel.add(Dense(n_X, activation='relu'))\nmodel.add(Dropout(0.2))\nmodel.add(Dense(n_Y, activation='softmax'))\nmodel.compile(loss='categorical_crossentropy', optimizer='adam', metrics=['accuracy'])\nmodel.fit(df_X_tr, df_Y_tr, epochs=cfg_epoch, batch_size=cfg_batch,\n         shuffle=True, validation_split=cfg_validation_split, verbose=2)\n#l_scores = model.evaluate(df_X_tr, df_Y_tr)\n#print(f'{model.metrics_names[1]}: {l_scores[1]:.2f}')\nl_pred = model.predict_classes(df_X_te)\nl_id   = pd.read_csv(cfg_path_te)['PetID']\nmy_submission = pd.DataFrame({'PetID': l_id, 'AdoptionSpeed': l_pred})\nmy_submission.to_csv('submission.csv', index=False)",
      "execution_count": null,
      "outputs": []
    }
  ],
  "metadata": {
    "kernelspec": {
      "display_name": "Python 3",
      "language": "python",
      "name": "python3"
    },
    "language_info": {
      "name": "python",
      "version": "3.6.6",
      "mimetype": "text/x-python",
      "codemirror_mode": {
        "name": "ipython",
        "version": 3
      },
      "pygments_lexer": "ipython3",
      "nbconvert_exporter": "python",
      "file_extension": ".py"
    }
  },
  "nbformat": 4,
  "nbformat_minor": 1
}