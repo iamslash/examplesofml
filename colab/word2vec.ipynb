{
  "nbformat": 4,
  "nbformat_minor": 0,
  "metadata": {
    "colab": {
      "name": "word2vec.ipynb",
      "version": "0.3.2",
      "provenance": [],
      "include_colab_link": true
    },
    "kernelspec": {
      "name": "python3",
      "display_name": "Python 3"
    },
    "accelerator": "GPU"
  },
  "cells": [
    {
      "cell_type": "markdown",
      "metadata": {
        "id": "view-in-github",
        "colab_type": "text"
      },
      "source": [
        "<a href=\"https://colab.research.google.com/github/iamslash/examplesofml/blob/master/colab/word2vec.ipynb\" target=\"_parent\"><img src=\"https://colab.research.google.com/assets/colab-badge.svg\" alt=\"Open In Colab\"/></a>"
      ]
    },
    {
      "metadata": {
        "id": "ABXg6KsoCbOg",
        "colab_type": "code",
        "colab": {}
      },
      "cell_type": "code",
      "source": [
        "l_corpus = ['king is a strong man', \n",
        "          'queen is a wise woman', \n",
        "          'boy is a young man',\n",
        "          'girl is a young woman',\n",
        "          'prince is a young king',\n",
        "          'princess is a young queen',\n",
        "          'man is strong', \n",
        "          'woman is pretty',\n",
        "          'prince is a boy will be king',\n",
        "          'princess is a girl will be queen']\n",
        "def remove_stop_words(s):\n",
        "  l_stop_words = ['is', 'a', 'will', 'be']\n",
        "  l_rslt = []\n",
        "  for sent in l_corpus:\n",
        "    l = sent.split(' ')\n",
        "    l_line = [word.strip() for word in l if word not in l_stop_words]      \n",
        "    l_rslt.append(\" \".join(l_line))\n",
        "  return l_rslt;\n",
        "l_corpus = remove_stop_words(l_corpus)\n",
        "l_words = [w for l in l_corpus for w in l.split(' ')]\n",
        "s_words = set(l_words)\n",
        "s_words"
      ],
      "execution_count": 0,
      "outputs": []
    },
    {
      "metadata": {
        "id": "c4h4BdYDGClL",
        "colab_type": "code",
        "colab": {}
      },
      "cell_type": "code",
      "source": [
        "d_word2int = {}\n",
        "for i, word in enumerate(s_words):\n",
        "  d_word2int[word] = i\n",
        "cfg_wnd_size = 2\n",
        "l_data = []\n",
        "for sent in l_corpus:\n",
        "  l = sent.split(' ')\n",
        "  for i, word in enumerate(l):\n",
        "    for neighbor in l[max(i-cfg_wnd_size, 0) : min(i+cfg_wnd_size,len(l))]:\n",
        "      if (neighbor != word):\n",
        "        l_data.append([word, neighbor])\n",
        "# s_data = set(l_data)"
      ],
      "execution_count": 0,
      "outputs": []
    },
    {
      "metadata": {
        "id": "9RlO5tI0Il7e",
        "colab_type": "code",
        "colab": {}
      },
      "cell_type": "code",
      "source": [
        "import pandas as pd\n",
        "df = pd.DataFrame(ll_data, columns=['input', 'label'])\n",
        "# df.head(10)\n",
        "df.shape\n",
        "d_word2int"
      ],
      "execution_count": 0,
      "outputs": []
    },
    {
      "metadata": {
        "id": "527PivxaJ1SG",
        "colab_type": "code",
        "colab": {}
      },
      "cell_type": "code",
      "source": [
        "import tensorflow as tf\n",
        "import numpy as np\n",
        "\n",
        "cfg_onehot_dim = len(l_words)\n",
        "def enc(idx):\n",
        "  r = np.zeros(cfg_onehot_dim)\n",
        "  r[idx] = 1\n",
        "  return r\n",
        "l_X_tr = []\n",
        "l_Y_tr = []\n",
        "for x, y in zip(df['input'], df['label'])\n",
        "  l_X_tr(enc(d_word2int[x]))\n",
        "  l_Y_tr(enc(d_word2int[y]))\n",
        "  "
      ],
      "execution_count": 0,
      "outputs": []
    }
  ]
}